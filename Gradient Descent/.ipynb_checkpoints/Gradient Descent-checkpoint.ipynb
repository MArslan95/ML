{
 "cells": [
  {
   "cell_type": "code",
   "execution_count": 1,
   "id": "6c4be891",
   "metadata": {},
   "outputs": [],
   "source": [
    "import numpy as np"
   ]
  },
  {
   "cell_type": "code",
   "execution_count": 7,
   "id": "02b6ad6d",
   "metadata": {},
   "outputs": [
    {
     "ename": "SyntaxError",
     "evalue": "invalid syntax (3655760688.py, line 37)",
     "output_type": "error",
     "traceback": [
      "\u001b[1;36m  Input \u001b[1;32mIn [7]\u001b[1;36m\u001b[0m\n\u001b[1;33m    gradient_descent(x,y):\u001b[0m\n\u001b[1;37m                          ^\u001b[0m\n\u001b[1;31mSyntaxError\u001b[0m\u001b[1;31m:\u001b[0m invalid syntax\n"
     ]
    }
   ],
   "source": [
    "# def gradient_descent(x,y):\n",
    "#     m_curr = b_curr = 0\n",
    "#     iterations = 10000\n",
    "#     n = len(x)\n",
    "#     learning_rate = 0.08\n",
    "\n",
    "#     for i in range(iterations):\n",
    "#         y_predicted = m_curr * x + b_curr\n",
    "#         cost = (1/n) * sum([val**2 for val in (y-y_predicted)])\n",
    "#         md = -(2/n)*sum(x*(y-y_predicted))\n",
    "#         bd = -(2/n)*sum(y-y_predicted)\n",
    "#         m_curr = m_curr - learning_rate * md\n",
    "#         b_curr = b_curr - learning_rate * bd\n",
    "#         print (\"m {}, b {}, cost {} iteration {}\".format(m_curr,b_curr,cost, i))\n",
    "\n",
    "# x = np.array([1,2,3,4,5])\n",
    "# y = np.array([5,7,9,11,13])\n",
    "\n",
    "# gradient_descent(x,y)\n",
    "\n",
    "def gradient_descent(x,y):\n",
    "    m_curr = b_curr = 0\n",
    "    iterations = 100\n",
    "    n= len(x)\n",
    "    learning_rate=0.001\n",
    "    for i in range(iterations):\n",
    "        y_predicted= m_curr*x+b_curr\n",
    "        md= -(2/n)* sum(x*(y-y_predicted))\n",
    "        bd=-(2/n)* sum(x*(y-y_predicted))\n",
    "        m_curr=m_curr-learning_rate * md\n",
    "        b_curr=b_curr-learning_rate * bd\n",
    "        print (\"m {}, b {}, cost {} iteration {}\".format(m_curr,b_curr,cost, i))\n",
    "        \n",
    "x=np.array([1,2,3,4,5])\n",
    "y=np.array([5,7,9,11,13])\n",
    "\n",
    "gradient_descent(x,y):"
   ]
  },
  {
   "cell_type": "code",
   "execution_count": null,
   "id": "d41bfc9c",
   "metadata": {},
   "outputs": [],
   "source": []
  }
 ],
 "metadata": {
  "kernelspec": {
   "display_name": "Python 3 (ipykernel)",
   "language": "python",
   "name": "python3"
  },
  "language_info": {
   "codemirror_mode": {
    "name": "ipython",
    "version": 3
   },
   "file_extension": ".py",
   "mimetype": "text/x-python",
   "name": "python",
   "nbconvert_exporter": "python",
   "pygments_lexer": "ipython3",
   "version": "3.9.12"
  }
 },
 "nbformat": 4,
 "nbformat_minor": 5
}
